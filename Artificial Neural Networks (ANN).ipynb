{
  "nbformat": 4,
  "nbformat_minor": 0,
  "metadata": {
    "colab": {
      "name": "ANN.ipynb",
      "provenance": [],
      "collapsed_sections": []
    },
    "kernelspec": {
      "name": "python3",
      "display_name": "Python 3"
    },
    "accelerator": "GPU"
  },
  "cells": [
    {
      "cell_type": "markdown",
      "metadata": {
        "id": "hWOSh9NsXcgP",
        "colab_type": "text"
      },
      "source": [
        "#Artificial Neural Networks (ANN) "
      ]
    },
    {
      "cell_type": "markdown",
      "metadata": {
        "id": "M3s3OMe3WsR9",
        "colab_type": "text"
      },
      "source": [
        "###In this project we are train our first Neural Networks and deep learning (Artificial Neural Networks (ANN) ) model"
      ]
    },
    {
      "cell_type": "markdown",
      "metadata": {
        "id": "9qmRmf8LXm34",
        "colab_type": "text"
      },
      "source": [
        "##In this project we are using Churn_Modelling dataset its a bank dataset ([data download it here](https://www.kaggle.com/aakash50897/churn-modellingcsv))"
      ]
    },
    {
      "cell_type": "code",
      "metadata": {
        "id": "MIOeqGW8Nefl",
        "colab_type": "code",
        "colab": {
          "resources": {
            "http://localhost:8080/nbextensions/google.colab/files.js": {
              "data": "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",
              "ok": true,
              "headers": [
                [
                  "content-type",
                  "application/javascript"
                ]
              ],
              "status": 200,
              "status_text": ""
            }
          },
          "base_uri": "https://localhost:8080/",
          "height": 72
        },
        "outputId": "de37988b-efd5-4895-c353-f0d411f0622a"
      },
      "source": [
        "# Load dataset\n",
        "from google.colab import files\n",
        "upload=files.upload() "
      ],
      "execution_count": 1,
      "outputs": [
        {
          "output_type": "display_data",
          "data": {
            "text/html": [
              "\n",
              "     <input type=\"file\" id=\"files-46827794-8d17-4610-851f-558a553f4392\" name=\"files[]\" multiple disabled\n",
              "        style=\"border:none\" />\n",
              "     <output id=\"result-46827794-8d17-4610-851f-558a553f4392\">\n",
              "      Upload widget is only available when the cell has been executed in the\n",
              "      current browser session. Please rerun this cell to enable.\n",
              "      </output>\n",
              "      <script src=\"/nbextensions/google.colab/files.js\"></script> "
            ],
            "text/plain": [
              "<IPython.core.display.HTML object>"
            ]
          },
          "metadata": {
            "tags": []
          }
        },
        {
          "output_type": "stream",
          "text": [
            "Saving Churn_Modelling.csv to Churn_Modelling.csv\n"
          ],
          "name": "stdout"
        }
      ]
    },
    {
      "cell_type": "code",
      "metadata": {
        "id": "cC-Zjnw8UedF",
        "colab_type": "code",
        "colab": {
          "base_uri": "https://localhost:8080/",
          "height": 34
        },
        "outputId": "3f836380-0c78-4f90-9623-8e78ec6f6489"
      },
      "source": [
        "!ls"
      ],
      "execution_count": 2,
      "outputs": [
        {
          "output_type": "stream",
          "text": [
            "Churn_Modelling.csv  sample_data\n"
          ],
          "name": "stdout"
        }
      ]
    },
    {
      "cell_type": "code",
      "metadata": {
        "id": "aPTKt6CFTxya",
        "colab_type": "code",
        "colab": {
          "base_uri": "https://localhost:8080/",
          "height": 34
        },
        "outputId": "3aa7e2f6-3398-4eaf-cba4-83683cf21c02"
      },
      "source": [
        "!pwd"
      ],
      "execution_count": 3,
      "outputs": [
        {
          "output_type": "stream",
          "text": [
            "/content\n"
          ],
          "name": "stdout"
        }
      ]
    },
    {
      "cell_type": "code",
      "metadata": {
        "id": "g155bWVVUwTN",
        "colab_type": "code",
        "colab": {
          "base_uri": "https://localhost:8080/",
          "height": 34
        },
        "outputId": "a1ca3860-e10e-4a51-b5dc-698eba88481a"
      },
      "source": [
        "# Importing Libaries\n",
        "import numpy as np\n",
        "import pandas as pd\n",
        "import matplotlib.pyplot as plt\n",
        "from sklearn.preprocessing import LabelEncoder , OneHotEncoder\n",
        "from sklearn.compose import ColumnTransformer\n",
        "from sklearn.model_selection import train_test_split\n",
        "from sklearn.preprocessing import StandardScaler\n",
        "import keras\n",
        "from keras.models import Sequential\n",
        "from keras.layers import Dense\n",
        "from sklearn.metrics import confusion_matrix"
      ],
      "execution_count": 4,
      "outputs": [
        {
          "output_type": "stream",
          "text": [
            "Using TensorFlow backend.\n"
          ],
          "name": "stderr"
        }
      ]
    },
    {
      "cell_type": "code",
      "metadata": {
        "id": "fieSgLowUpsJ",
        "colab_type": "code",
        "colab": {}
      },
      "source": [
        "# Import dataset \n",
        "data=pd.read_csv('Churn_Modelling.csv')"
      ],
      "execution_count": 5,
      "outputs": []
    },
    {
      "cell_type": "code",
      "metadata": {
        "id": "VC2QWD_0VY81",
        "colab_type": "code",
        "colab": {
          "base_uri": "https://localhost:8080/",
          "height": 204
        },
        "outputId": "e56e80ae-53e3-4c74-ff0c-36eefab76942"
      },
      "source": [
        "data.head()"
      ],
      "execution_count": 6,
      "outputs": [
        {
          "output_type": "execute_result",
          "data": {
            "text/html": [
              "<div>\n",
              "<style scoped>\n",
              "    .dataframe tbody tr th:only-of-type {\n",
              "        vertical-align: middle;\n",
              "    }\n",
              "\n",
              "    .dataframe tbody tr th {\n",
              "        vertical-align: top;\n",
              "    }\n",
              "\n",
              "    .dataframe thead th {\n",
              "        text-align: right;\n",
              "    }\n",
              "</style>\n",
              "<table border=\"1\" class=\"dataframe\">\n",
              "  <thead>\n",
              "    <tr style=\"text-align: right;\">\n",
              "      <th></th>\n",
              "      <th>RowNumber</th>\n",
              "      <th>CustomerId</th>\n",
              "      <th>Surname</th>\n",
              "      <th>CreditScore</th>\n",
              "      <th>Geography</th>\n",
              "      <th>Gender</th>\n",
              "      <th>Age</th>\n",
              "      <th>Tenure</th>\n",
              "      <th>Balance</th>\n",
              "      <th>NumOfProducts</th>\n",
              "      <th>HasCrCard</th>\n",
              "      <th>IsActiveMember</th>\n",
              "      <th>EstimatedSalary</th>\n",
              "      <th>Exited</th>\n",
              "    </tr>\n",
              "  </thead>\n",
              "  <tbody>\n",
              "    <tr>\n",
              "      <th>0</th>\n",
              "      <td>1</td>\n",
              "      <td>15634602</td>\n",
              "      <td>Hargrave</td>\n",
              "      <td>619</td>\n",
              "      <td>France</td>\n",
              "      <td>Female</td>\n",
              "      <td>42</td>\n",
              "      <td>2</td>\n",
              "      <td>0.00</td>\n",
              "      <td>1</td>\n",
              "      <td>1</td>\n",
              "      <td>1</td>\n",
              "      <td>101348.88</td>\n",
              "      <td>1</td>\n",
              "    </tr>\n",
              "    <tr>\n",
              "      <th>1</th>\n",
              "      <td>2</td>\n",
              "      <td>15647311</td>\n",
              "      <td>Hill</td>\n",
              "      <td>608</td>\n",
              "      <td>Spain</td>\n",
              "      <td>Female</td>\n",
              "      <td>41</td>\n",
              "      <td>1</td>\n",
              "      <td>83807.86</td>\n",
              "      <td>1</td>\n",
              "      <td>0</td>\n",
              "      <td>1</td>\n",
              "      <td>112542.58</td>\n",
              "      <td>0</td>\n",
              "    </tr>\n",
              "    <tr>\n",
              "      <th>2</th>\n",
              "      <td>3</td>\n",
              "      <td>15619304</td>\n",
              "      <td>Onio</td>\n",
              "      <td>502</td>\n",
              "      <td>France</td>\n",
              "      <td>Female</td>\n",
              "      <td>42</td>\n",
              "      <td>8</td>\n",
              "      <td>159660.80</td>\n",
              "      <td>3</td>\n",
              "      <td>1</td>\n",
              "      <td>0</td>\n",
              "      <td>113931.57</td>\n",
              "      <td>1</td>\n",
              "    </tr>\n",
              "    <tr>\n",
              "      <th>3</th>\n",
              "      <td>4</td>\n",
              "      <td>15701354</td>\n",
              "      <td>Boni</td>\n",
              "      <td>699</td>\n",
              "      <td>France</td>\n",
              "      <td>Female</td>\n",
              "      <td>39</td>\n",
              "      <td>1</td>\n",
              "      <td>0.00</td>\n",
              "      <td>2</td>\n",
              "      <td>0</td>\n",
              "      <td>0</td>\n",
              "      <td>93826.63</td>\n",
              "      <td>0</td>\n",
              "    </tr>\n",
              "    <tr>\n",
              "      <th>4</th>\n",
              "      <td>5</td>\n",
              "      <td>15737888</td>\n",
              "      <td>Mitchell</td>\n",
              "      <td>850</td>\n",
              "      <td>Spain</td>\n",
              "      <td>Female</td>\n",
              "      <td>43</td>\n",
              "      <td>2</td>\n",
              "      <td>125510.82</td>\n",
              "      <td>1</td>\n",
              "      <td>1</td>\n",
              "      <td>1</td>\n",
              "      <td>79084.10</td>\n",
              "      <td>0</td>\n",
              "    </tr>\n",
              "  </tbody>\n",
              "</table>\n",
              "</div>"
            ],
            "text/plain": [
              "   RowNumber  CustomerId   Surname  ...  IsActiveMember EstimatedSalary Exited\n",
              "0          1    15634602  Hargrave  ...               1       101348.88      1\n",
              "1          2    15647311      Hill  ...               1       112542.58      0\n",
              "2          3    15619304      Onio  ...               0       113931.57      1\n",
              "3          4    15701354      Boni  ...               0        93826.63      0\n",
              "4          5    15737888  Mitchell  ...               1        79084.10      0\n",
              "\n",
              "[5 rows x 14 columns]"
            ]
          },
          "metadata": {
            "tags": []
          },
          "execution_count": 6
        }
      ]
    },
    {
      "cell_type": "code",
      "metadata": {
        "id": "u3LwRXz6WcXp",
        "colab_type": "code",
        "colab": {
          "base_uri": "https://localhost:8080/",
          "height": 34
        },
        "outputId": "bf4c316f-d82b-4c08-9527-f9d60384b036"
      },
      "source": [
        "len(data)"
      ],
      "execution_count": 7,
      "outputs": [
        {
          "output_type": "execute_result",
          "data": {
            "text/plain": [
              "10000"
            ]
          },
          "metadata": {
            "tags": []
          },
          "execution_count": 7
        }
      ]
    },
    {
      "cell_type": "code",
      "metadata": {
        "id": "4gW3Ts0GWfXl",
        "colab_type": "code",
        "colab": {
          "base_uri": "https://localhost:8080/",
          "height": 390
        },
        "outputId": "86b3fcd5-404b-48af-8fba-20388a2a28ab"
      },
      "source": [
        "data.corr()"
      ],
      "execution_count": 8,
      "outputs": [
        {
          "output_type": "execute_result",
          "data": {
            "text/html": [
              "<div>\n",
              "<style scoped>\n",
              "    .dataframe tbody tr th:only-of-type {\n",
              "        vertical-align: middle;\n",
              "    }\n",
              "\n",
              "    .dataframe tbody tr th {\n",
              "        vertical-align: top;\n",
              "    }\n",
              "\n",
              "    .dataframe thead th {\n",
              "        text-align: right;\n",
              "    }\n",
              "</style>\n",
              "<table border=\"1\" class=\"dataframe\">\n",
              "  <thead>\n",
              "    <tr style=\"text-align: right;\">\n",
              "      <th></th>\n",
              "      <th>RowNumber</th>\n",
              "      <th>CustomerId</th>\n",
              "      <th>CreditScore</th>\n",
              "      <th>Age</th>\n",
              "      <th>Tenure</th>\n",
              "      <th>Balance</th>\n",
              "      <th>NumOfProducts</th>\n",
              "      <th>HasCrCard</th>\n",
              "      <th>IsActiveMember</th>\n",
              "      <th>EstimatedSalary</th>\n",
              "      <th>Exited</th>\n",
              "    </tr>\n",
              "  </thead>\n",
              "  <tbody>\n",
              "    <tr>\n",
              "      <th>RowNumber</th>\n",
              "      <td>1.000000</td>\n",
              "      <td>0.004202</td>\n",
              "      <td>0.005840</td>\n",
              "      <td>0.000783</td>\n",
              "      <td>-0.006495</td>\n",
              "      <td>-0.009067</td>\n",
              "      <td>0.007246</td>\n",
              "      <td>0.000599</td>\n",
              "      <td>0.012044</td>\n",
              "      <td>-0.005988</td>\n",
              "      <td>-0.016571</td>\n",
              "    </tr>\n",
              "    <tr>\n",
              "      <th>CustomerId</th>\n",
              "      <td>0.004202</td>\n",
              "      <td>1.000000</td>\n",
              "      <td>0.005308</td>\n",
              "      <td>0.009497</td>\n",
              "      <td>-0.014883</td>\n",
              "      <td>-0.012419</td>\n",
              "      <td>0.016972</td>\n",
              "      <td>-0.014025</td>\n",
              "      <td>0.001665</td>\n",
              "      <td>0.015271</td>\n",
              "      <td>-0.006248</td>\n",
              "    </tr>\n",
              "    <tr>\n",
              "      <th>CreditScore</th>\n",
              "      <td>0.005840</td>\n",
              "      <td>0.005308</td>\n",
              "      <td>1.000000</td>\n",
              "      <td>-0.003965</td>\n",
              "      <td>0.000842</td>\n",
              "      <td>0.006268</td>\n",
              "      <td>0.012238</td>\n",
              "      <td>-0.005458</td>\n",
              "      <td>0.025651</td>\n",
              "      <td>-0.001384</td>\n",
              "      <td>-0.027094</td>\n",
              "    </tr>\n",
              "    <tr>\n",
              "      <th>Age</th>\n",
              "      <td>0.000783</td>\n",
              "      <td>0.009497</td>\n",
              "      <td>-0.003965</td>\n",
              "      <td>1.000000</td>\n",
              "      <td>-0.009997</td>\n",
              "      <td>0.028308</td>\n",
              "      <td>-0.030680</td>\n",
              "      <td>-0.011721</td>\n",
              "      <td>0.085472</td>\n",
              "      <td>-0.007201</td>\n",
              "      <td>0.285323</td>\n",
              "    </tr>\n",
              "    <tr>\n",
              "      <th>Tenure</th>\n",
              "      <td>-0.006495</td>\n",
              "      <td>-0.014883</td>\n",
              "      <td>0.000842</td>\n",
              "      <td>-0.009997</td>\n",
              "      <td>1.000000</td>\n",
              "      <td>-0.012254</td>\n",
              "      <td>0.013444</td>\n",
              "      <td>0.022583</td>\n",
              "      <td>-0.028362</td>\n",
              "      <td>0.007784</td>\n",
              "      <td>-0.014001</td>\n",
              "    </tr>\n",
              "    <tr>\n",
              "      <th>Balance</th>\n",
              "      <td>-0.009067</td>\n",
              "      <td>-0.012419</td>\n",
              "      <td>0.006268</td>\n",
              "      <td>0.028308</td>\n",
              "      <td>-0.012254</td>\n",
              "      <td>1.000000</td>\n",
              "      <td>-0.304180</td>\n",
              "      <td>-0.014858</td>\n",
              "      <td>-0.010084</td>\n",
              "      <td>0.012797</td>\n",
              "      <td>0.118533</td>\n",
              "    </tr>\n",
              "    <tr>\n",
              "      <th>NumOfProducts</th>\n",
              "      <td>0.007246</td>\n",
              "      <td>0.016972</td>\n",
              "      <td>0.012238</td>\n",
              "      <td>-0.030680</td>\n",
              "      <td>0.013444</td>\n",
              "      <td>-0.304180</td>\n",
              "      <td>1.000000</td>\n",
              "      <td>0.003183</td>\n",
              "      <td>0.009612</td>\n",
              "      <td>0.014204</td>\n",
              "      <td>-0.047820</td>\n",
              "    </tr>\n",
              "    <tr>\n",
              "      <th>HasCrCard</th>\n",
              "      <td>0.000599</td>\n",
              "      <td>-0.014025</td>\n",
              "      <td>-0.005458</td>\n",
              "      <td>-0.011721</td>\n",
              "      <td>0.022583</td>\n",
              "      <td>-0.014858</td>\n",
              "      <td>0.003183</td>\n",
              "      <td>1.000000</td>\n",
              "      <td>-0.011866</td>\n",
              "      <td>-0.009933</td>\n",
              "      <td>-0.007138</td>\n",
              "    </tr>\n",
              "    <tr>\n",
              "      <th>IsActiveMember</th>\n",
              "      <td>0.012044</td>\n",
              "      <td>0.001665</td>\n",
              "      <td>0.025651</td>\n",
              "      <td>0.085472</td>\n",
              "      <td>-0.028362</td>\n",
              "      <td>-0.010084</td>\n",
              "      <td>0.009612</td>\n",
              "      <td>-0.011866</td>\n",
              "      <td>1.000000</td>\n",
              "      <td>-0.011421</td>\n",
              "      <td>-0.156128</td>\n",
              "    </tr>\n",
              "    <tr>\n",
              "      <th>EstimatedSalary</th>\n",
              "      <td>-0.005988</td>\n",
              "      <td>0.015271</td>\n",
              "      <td>-0.001384</td>\n",
              "      <td>-0.007201</td>\n",
              "      <td>0.007784</td>\n",
              "      <td>0.012797</td>\n",
              "      <td>0.014204</td>\n",
              "      <td>-0.009933</td>\n",
              "      <td>-0.011421</td>\n",
              "      <td>1.000000</td>\n",
              "      <td>0.012097</td>\n",
              "    </tr>\n",
              "    <tr>\n",
              "      <th>Exited</th>\n",
              "      <td>-0.016571</td>\n",
              "      <td>-0.006248</td>\n",
              "      <td>-0.027094</td>\n",
              "      <td>0.285323</td>\n",
              "      <td>-0.014001</td>\n",
              "      <td>0.118533</td>\n",
              "      <td>-0.047820</td>\n",
              "      <td>-0.007138</td>\n",
              "      <td>-0.156128</td>\n",
              "      <td>0.012097</td>\n",
              "      <td>1.000000</td>\n",
              "    </tr>\n",
              "  </tbody>\n",
              "</table>\n",
              "</div>"
            ],
            "text/plain": [
              "                 RowNumber  CustomerId  ...  EstimatedSalary    Exited\n",
              "RowNumber         1.000000    0.004202  ...        -0.005988 -0.016571\n",
              "CustomerId        0.004202    1.000000  ...         0.015271 -0.006248\n",
              "CreditScore       0.005840    0.005308  ...        -0.001384 -0.027094\n",
              "Age               0.000783    0.009497  ...        -0.007201  0.285323\n",
              "Tenure           -0.006495   -0.014883  ...         0.007784 -0.014001\n",
              "Balance          -0.009067   -0.012419  ...         0.012797  0.118533\n",
              "NumOfProducts     0.007246    0.016972  ...         0.014204 -0.047820\n",
              "HasCrCard         0.000599   -0.014025  ...        -0.009933 -0.007138\n",
              "IsActiveMember    0.012044    0.001665  ...        -0.011421 -0.156128\n",
              "EstimatedSalary  -0.005988    0.015271  ...         1.000000  0.012097\n",
              "Exited           -0.016571   -0.006248  ...         0.012097  1.000000\n",
              "\n",
              "[11 rows x 11 columns]"
            ]
          },
          "metadata": {
            "tags": []
          },
          "execution_count": 8
        }
      ]
    },
    {
      "cell_type": "code",
      "metadata": {
        "id": "xkRi8BW0WlED",
        "colab_type": "code",
        "colab": {}
      },
      "source": [
        "X=data.iloc[:,3:13].values\n",
        "y=data.iloc[:,-1].values"
      ],
      "execution_count": 9,
      "outputs": []
    },
    {
      "cell_type": "code",
      "metadata": {
        "id": "vya_bBoWXUWX",
        "colab_type": "code",
        "colab": {
          "base_uri": "https://localhost:8080/",
          "height": 136
        },
        "outputId": "865f2691-da6a-4e7a-b0e6-5dc8cf1f65fe"
      },
      "source": [
        "X"
      ],
      "execution_count": 10,
      "outputs": [
        {
          "output_type": "execute_result",
          "data": {
            "text/plain": [
              "array([[619, 'France', 'Female', ..., 1, 1, 101348.88],\n",
              "       [608, 'Spain', 'Female', ..., 0, 1, 112542.58],\n",
              "       [502, 'France', 'Female', ..., 1, 0, 113931.57],\n",
              "       ...,\n",
              "       [709, 'France', 'Female', ..., 0, 1, 42085.58],\n",
              "       [772, 'Germany', 'Male', ..., 1, 0, 92888.52],\n",
              "       [792, 'France', 'Female', ..., 1, 0, 38190.78]], dtype=object)"
            ]
          },
          "metadata": {
            "tags": []
          },
          "execution_count": 10
        }
      ]
    },
    {
      "cell_type": "code",
      "metadata": {
        "id": "QeVjj1BeXVbH",
        "colab_type": "code",
        "colab": {
          "base_uri": "https://localhost:8080/",
          "height": 34
        },
        "outputId": "864916cf-bbee-48ac-b783-133c17b61990"
      },
      "source": [
        "y"
      ],
      "execution_count": 11,
      "outputs": [
        {
          "output_type": "execute_result",
          "data": {
            "text/plain": [
              "array([1, 0, 1, ..., 1, 1, 0])"
            ]
          },
          "metadata": {
            "tags": []
          },
          "execution_count": 11
        }
      ]
    },
    {
      "cell_type": "code",
      "metadata": {
        "id": "MK3yXBltY_St",
        "colab_type": "code",
        "colab": {}
      },
      "source": [
        "# Encoding the dataset\n",
        "label_encoder_X_1=LabelEncoder()\n",
        "X[:,1]=label_encoder_X_1.fit_transform(X[:,1])\n",
        "\n",
        "label_encoder_X_2=LabelEncoder()\n",
        "X[:,2]=label_encoder_X_2.fit_transform(X[:,2])\n",
        "\n",
        "transformer=ColumnTransformer(transformers=[('Geography' , OneHotEncoder() , [1])], remainder='passthrough')\n",
        "X=transformer.fit_transform(X.tolist())\n",
        "X=X.astype('float64') "
      ],
      "execution_count": 12,
      "outputs": []
    },
    {
      "cell_type": "code",
      "metadata": {
        "id": "wIHEEZ7zXedX",
        "colab_type": "code",
        "colab": {}
      },
      "source": [
        "# Split the dataset"
      ],
      "execution_count": 13,
      "outputs": []
    },
    {
      "cell_type": "code",
      "metadata": {
        "id": "vjbzThVrXtLQ",
        "colab_type": "code",
        "colab": {}
      },
      "source": [
        "X_train , X_test , y_train , y_test=train_test_split(X,y , test_size=0.2 , random_state=42)"
      ],
      "execution_count": 14,
      "outputs": []
    },
    {
      "cell_type": "code",
      "metadata": {
        "id": "F25OSY17kWQ2",
        "colab_type": "code",
        "colab": {
          "base_uri": "https://localhost:8080/",
          "height": 34
        },
        "outputId": "f3f8cb07-0863-4e11-c6b5-c99ef7fcbf2c"
      },
      "source": [
        " print(X_train[0].shape)"
      ],
      "execution_count": 15,
      "outputs": [
        {
          "output_type": "stream",
          "text": [
            "(12,)\n"
          ],
          "name": "stdout"
        }
      ]
    },
    {
      "cell_type": "code",
      "metadata": {
        "id": "SzOz0Qyjewqw",
        "colab_type": "code",
        "colab": {}
      },
      "source": [
        "# Standard the dataset\n",
        "sc=StandardScaler()\n",
        "X_train=sc.fit_transform(X_train)\n",
        "X_test=sc.transform(X_test)"
      ],
      "execution_count": 16,
      "outputs": []
    },
    {
      "cell_type": "code",
      "metadata": {
        "id": "ys9nycIkf_Ix",
        "colab_type": "code",
        "colab": {
          "base_uri": "https://localhost:8080/",
          "height": 139
        },
        "outputId": "c82ef04f-6b1a-46ba-8fa0-3c5219a16d60"
      },
      "source": [
        "# Create Model\n",
        "cls=Sequential()\n",
        "\n",
        "cls.add(Dense(output_dim=6 , init='uniform', activation='relu', input_dim=12))\n",
        "\n",
        "cls.add(Dense(output_dim=6 , init='uniform', activation='relu'))\n",
        "\n",
        "cls.add(Dense(output_dim=1 , init='uniform', activation='sigmoid'))\n",
        "\n",
        "# Compile the Model\n",
        "cls.compile(optimizer='adam', loss='binary_crossentropy' , metrics=['accuracy'])"
      ],
      "execution_count": 17,
      "outputs": [
        {
          "output_type": "stream",
          "text": [
            "/usr/local/lib/python3.6/dist-packages/ipykernel_launcher.py:4: UserWarning: Update your `Dense` call to the Keras 2 API: `Dense(activation=\"relu\", input_dim=12, units=6, kernel_initializer=\"uniform\")`\n",
            "  after removing the cwd from sys.path.\n",
            "/usr/local/lib/python3.6/dist-packages/ipykernel_launcher.py:6: UserWarning: Update your `Dense` call to the Keras 2 API: `Dense(activation=\"relu\", units=6, kernel_initializer=\"uniform\")`\n",
            "  \n",
            "/usr/local/lib/python3.6/dist-packages/ipykernel_launcher.py:8: UserWarning: Update your `Dense` call to the Keras 2 API: `Dense(activation=\"sigmoid\", units=1, kernel_initializer=\"uniform\")`\n",
            "  \n"
          ],
          "name": "stderr"
        }
      ]
    },
    {
      "cell_type": "code",
      "metadata": {
        "id": "kWeH3ErLh0Bc",
        "colab_type": "code",
        "colab": {
          "base_uri": "https://localhost:8080/",
          "height": 1000
        },
        "outputId": "41cf8ff0-37ec-4929-860c-7504caaa5825"
      },
      "source": [
        "# Train the model\n",
        "cls.fit(X_train, y_train , batch_size=20 , epochs=100)\n",
        "print(\"The Model has Successfully Trained\")"
      ],
      "execution_count": 18,
      "outputs": [
        {
          "output_type": "stream",
          "text": [
            "Epoch 1/100\n",
            "8000/8000 [==============================] - 3s 436us/step - loss: 0.5455 - accuracy: 0.7936\n",
            "Epoch 2/100\n",
            "8000/8000 [==============================] - 2s 217us/step - loss: 0.4366 - accuracy: 0.7945\n",
            "Epoch 3/100\n",
            "8000/8000 [==============================] - 2s 215us/step - loss: 0.4309 - accuracy: 0.7945\n",
            "Epoch 4/100\n",
            "8000/8000 [==============================] - 2s 218us/step - loss: 0.4272 - accuracy: 0.7945\n",
            "Epoch 5/100\n",
            "8000/8000 [==============================] - 2s 213us/step - loss: 0.4247 - accuracy: 0.7945\n",
            "Epoch 6/100\n",
            "8000/8000 [==============================] - 2s 212us/step - loss: 0.4226 - accuracy: 0.8140\n",
            "Epoch 7/100\n",
            "8000/8000 [==============================] - 2s 217us/step - loss: 0.4204 - accuracy: 0.8215\n",
            "Epoch 8/100\n",
            "8000/8000 [==============================] - 2s 219us/step - loss: 0.4186 - accuracy: 0.8256\n",
            "Epoch 9/100\n",
            "8000/8000 [==============================] - 2s 216us/step - loss: 0.4171 - accuracy: 0.8292\n",
            "Epoch 10/100\n",
            "8000/8000 [==============================] - 2s 213us/step - loss: 0.4153 - accuracy: 0.8298\n",
            "Epoch 11/100\n",
            "8000/8000 [==============================] - 2s 217us/step - loss: 0.4142 - accuracy: 0.8315\n",
            "Epoch 12/100\n",
            "8000/8000 [==============================] - 2s 218us/step - loss: 0.4132 - accuracy: 0.8329\n",
            "Epoch 13/100\n",
            "8000/8000 [==============================] - 2s 218us/step - loss: 0.4122 - accuracy: 0.8336\n",
            "Epoch 14/100\n",
            "8000/8000 [==============================] - 2s 218us/step - loss: 0.4113 - accuracy: 0.8335\n",
            "Epoch 15/100\n",
            "8000/8000 [==============================] - 2s 220us/step - loss: 0.4104 - accuracy: 0.8341\n",
            "Epoch 16/100\n",
            "8000/8000 [==============================] - 2s 216us/step - loss: 0.4100 - accuracy: 0.8344\n",
            "Epoch 17/100\n",
            "8000/8000 [==============================] - 2s 219us/step - loss: 0.4091 - accuracy: 0.8353\n",
            "Epoch 18/100\n",
            "8000/8000 [==============================] - 2s 212us/step - loss: 0.4084 - accuracy: 0.8355\n",
            "Epoch 19/100\n",
            "8000/8000 [==============================] - 2s 221us/step - loss: 0.4081 - accuracy: 0.8340\n",
            "Epoch 20/100\n",
            "8000/8000 [==============================] - 2s 218us/step - loss: 0.4075 - accuracy: 0.8350\n",
            "Epoch 21/100\n",
            "8000/8000 [==============================] - 2s 217us/step - loss: 0.4070 - accuracy: 0.8342\n",
            "Epoch 22/100\n",
            "8000/8000 [==============================] - 2s 208us/step - loss: 0.4068 - accuracy: 0.8344\n",
            "Epoch 23/100\n",
            "8000/8000 [==============================] - 2s 212us/step - loss: 0.4060 - accuracy: 0.8346\n",
            "Epoch 24/100\n",
            "8000/8000 [==============================] - 2s 217us/step - loss: 0.4057 - accuracy: 0.8339\n",
            "Epoch 25/100\n",
            "8000/8000 [==============================] - 2s 234us/step - loss: 0.4057 - accuracy: 0.8350\n",
            "Epoch 26/100\n",
            "8000/8000 [==============================] - 2s 208us/step - loss: 0.4051 - accuracy: 0.8344\n",
            "Epoch 27/100\n",
            "8000/8000 [==============================] - 2s 214us/step - loss: 0.4049 - accuracy: 0.8345\n",
            "Epoch 28/100\n",
            "8000/8000 [==============================] - 2s 224us/step - loss: 0.4046 - accuracy: 0.8342\n",
            "Epoch 29/100\n",
            "8000/8000 [==============================] - 2s 207us/step - loss: 0.4043 - accuracy: 0.8355\n",
            "Epoch 30/100\n",
            "8000/8000 [==============================] - 2s 212us/step - loss: 0.4044 - accuracy: 0.8344\n",
            "Epoch 31/100\n",
            "8000/8000 [==============================] - 2s 216us/step - loss: 0.4043 - accuracy: 0.8356\n",
            "Epoch 32/100\n",
            "8000/8000 [==============================] - 2s 200us/step - loss: 0.4041 - accuracy: 0.8353\n",
            "Epoch 33/100\n",
            "8000/8000 [==============================] - 2s 212us/step - loss: 0.4039 - accuracy: 0.8345\n",
            "Epoch 34/100\n",
            "8000/8000 [==============================] - 2s 200us/step - loss: 0.4034 - accuracy: 0.8361\n",
            "Epoch 35/100\n",
            "8000/8000 [==============================] - 2s 201us/step - loss: 0.4035 - accuracy: 0.8355\n",
            "Epoch 36/100\n",
            "8000/8000 [==============================] - 2s 201us/step - loss: 0.4034 - accuracy: 0.8355\n",
            "Epoch 37/100\n",
            "8000/8000 [==============================] - 2s 197us/step - loss: 0.4036 - accuracy: 0.8359\n",
            "Epoch 38/100\n",
            "8000/8000 [==============================] - 2s 204us/step - loss: 0.4030 - accuracy: 0.8355\n",
            "Epoch 39/100\n",
            "8000/8000 [==============================] - 2s 206us/step - loss: 0.4033 - accuracy: 0.8351\n",
            "Epoch 40/100\n",
            "8000/8000 [==============================] - 2s 199us/step - loss: 0.4030 - accuracy: 0.8355\n",
            "Epoch 41/100\n",
            "8000/8000 [==============================] - 2s 212us/step - loss: 0.4031 - accuracy: 0.8350\n",
            "Epoch 42/100\n",
            "8000/8000 [==============================] - 2s 201us/step - loss: 0.4026 - accuracy: 0.8363\n",
            "Epoch 43/100\n",
            "8000/8000 [==============================] - 2s 198us/step - loss: 0.4029 - accuracy: 0.8357\n",
            "Epoch 44/100\n",
            "8000/8000 [==============================] - 2s 209us/step - loss: 0.4027 - accuracy: 0.8361\n",
            "Epoch 45/100\n",
            "8000/8000 [==============================] - 2s 200us/step - loss: 0.4027 - accuracy: 0.8351\n",
            "Epoch 46/100\n",
            "8000/8000 [==============================] - 2s 200us/step - loss: 0.4023 - accuracy: 0.8350\n",
            "Epoch 47/100\n",
            "8000/8000 [==============================] - 2s 214us/step - loss: 0.4024 - accuracy: 0.8354\n",
            "Epoch 48/100\n",
            "8000/8000 [==============================] - 2s 200us/step - loss: 0.4021 - accuracy: 0.8349\n",
            "Epoch 49/100\n",
            "8000/8000 [==============================] - 2s 206us/step - loss: 0.4024 - accuracy: 0.8349\n",
            "Epoch 50/100\n",
            "8000/8000 [==============================] - 2s 207us/step - loss: 0.4021 - accuracy: 0.8350\n",
            "Epoch 51/100\n",
            "8000/8000 [==============================] - 2s 213us/step - loss: 0.4021 - accuracy: 0.8356\n",
            "Epoch 52/100\n",
            "8000/8000 [==============================] - 2s 208us/step - loss: 0.4024 - accuracy: 0.8342\n",
            "Epoch 53/100\n",
            "8000/8000 [==============================] - 2s 217us/step - loss: 0.4023 - accuracy: 0.8344\n",
            "Epoch 54/100\n",
            "8000/8000 [==============================] - 2s 205us/step - loss: 0.4018 - accuracy: 0.8370\n",
            "Epoch 55/100\n",
            "8000/8000 [==============================] - 2s 200us/step - loss: 0.4018 - accuracy: 0.8354\n",
            "Epoch 56/100\n",
            "8000/8000 [==============================] - 2s 208us/step - loss: 0.4016 - accuracy: 0.8346\n",
            "Epoch 57/100\n",
            "8000/8000 [==============================] - 2s 207us/step - loss: 0.4021 - accuracy: 0.8357\n",
            "Epoch 58/100\n",
            "8000/8000 [==============================] - 2s 209us/step - loss: 0.4020 - accuracy: 0.8355\n",
            "Epoch 59/100\n",
            "8000/8000 [==============================] - 2s 205us/step - loss: 0.4018 - accuracy: 0.8355\n",
            "Epoch 60/100\n",
            "8000/8000 [==============================] - 2s 206us/step - loss: 0.4018 - accuracy: 0.8357\n",
            "Epoch 61/100\n",
            "8000/8000 [==============================] - 2s 205us/step - loss: 0.4022 - accuracy: 0.8340\n",
            "Epoch 62/100\n",
            "8000/8000 [==============================] - 2s 211us/step - loss: 0.4017 - accuracy: 0.8342\n",
            "Epoch 63/100\n",
            "8000/8000 [==============================] - 2s 207us/step - loss: 0.4015 - accuracy: 0.8351\n",
            "Epoch 64/100\n",
            "8000/8000 [==============================] - 2s 213us/step - loss: 0.4017 - accuracy: 0.8338\n",
            "Epoch 65/100\n",
            "8000/8000 [==============================] - 2s 200us/step - loss: 0.4014 - accuracy: 0.8357\n",
            "Epoch 66/100\n",
            "8000/8000 [==============================] - 2s 206us/step - loss: 0.4009 - accuracy: 0.8349\n",
            "Epoch 67/100\n",
            "8000/8000 [==============================] - 2s 204us/step - loss: 0.4014 - accuracy: 0.8360\n",
            "Epoch 68/100\n",
            "8000/8000 [==============================] - 2s 200us/step - loss: 0.4015 - accuracy: 0.8344\n",
            "Epoch 69/100\n",
            "8000/8000 [==============================] - 2s 215us/step - loss: 0.4014 - accuracy: 0.8350\n",
            "Epoch 70/100\n",
            "8000/8000 [==============================] - 2s 209us/step - loss: 0.4010 - accuracy: 0.8355\n",
            "Epoch 71/100\n",
            "8000/8000 [==============================] - 2s 207us/step - loss: 0.4014 - accuracy: 0.8353\n",
            "Epoch 72/100\n",
            "8000/8000 [==============================] - 2s 209us/step - loss: 0.4013 - accuracy: 0.8359\n",
            "Epoch 73/100\n",
            "8000/8000 [==============================] - 2s 210us/step - loss: 0.4015 - accuracy: 0.8353\n",
            "Epoch 74/100\n",
            "8000/8000 [==============================] - 2s 205us/step - loss: 0.4015 - accuracy: 0.8345\n",
            "Epoch 75/100\n",
            "8000/8000 [==============================] - 2s 209us/step - loss: 0.4016 - accuracy: 0.8342\n",
            "Epoch 76/100\n",
            "8000/8000 [==============================] - 2s 201us/step - loss: 0.4014 - accuracy: 0.8351\n",
            "Epoch 77/100\n",
            "8000/8000 [==============================] - 2s 205us/step - loss: 0.4013 - accuracy: 0.8354\n",
            "Epoch 78/100\n",
            "8000/8000 [==============================] - 2s 203us/step - loss: 0.4014 - accuracy: 0.8340\n",
            "Epoch 79/100\n",
            "8000/8000 [==============================] - 2s 216us/step - loss: 0.4012 - accuracy: 0.8347\n",
            "Epoch 80/100\n",
            "8000/8000 [==============================] - 2s 205us/step - loss: 0.4011 - accuracy: 0.8353\n",
            "Epoch 81/100\n",
            "8000/8000 [==============================] - 2s 203us/step - loss: 0.4012 - accuracy: 0.8354\n",
            "Epoch 82/100\n",
            "8000/8000 [==============================] - 2s 205us/step - loss: 0.4007 - accuracy: 0.8341\n",
            "Epoch 83/100\n",
            "8000/8000 [==============================] - 2s 205us/step - loss: 0.4010 - accuracy: 0.8347\n",
            "Epoch 84/100\n",
            "8000/8000 [==============================] - 2s 202us/step - loss: 0.4014 - accuracy: 0.8336\n",
            "Epoch 85/100\n",
            "8000/8000 [==============================] - 2s 209us/step - loss: 0.4011 - accuracy: 0.8351\n",
            "Epoch 86/100\n",
            "8000/8000 [==============================] - 2s 200us/step - loss: 0.4010 - accuracy: 0.8356\n",
            "Epoch 87/100\n",
            "8000/8000 [==============================] - 2s 211us/step - loss: 0.4010 - accuracy: 0.8349\n",
            "Epoch 88/100\n",
            "8000/8000 [==============================] - 2s 206us/step - loss: 0.4010 - accuracy: 0.8342\n",
            "Epoch 89/100\n",
            "8000/8000 [==============================] - 2s 205us/step - loss: 0.4007 - accuracy: 0.8353\n",
            "Epoch 90/100\n",
            "8000/8000 [==============================] - 2s 220us/step - loss: 0.4012 - accuracy: 0.8347\n",
            "Epoch 91/100\n",
            "8000/8000 [==============================] - 2s 207us/step - loss: 0.4009 - accuracy: 0.8349\n",
            "Epoch 92/100\n",
            "8000/8000 [==============================] - 2s 207us/step - loss: 0.4008 - accuracy: 0.8351\n",
            "Epoch 93/100\n",
            "8000/8000 [==============================] - 2s 206us/step - loss: 0.4010 - accuracy: 0.8347\n",
            "Epoch 94/100\n",
            "8000/8000 [==============================] - 2s 210us/step - loss: 0.4009 - accuracy: 0.8351\n",
            "Epoch 95/100\n",
            "8000/8000 [==============================] - 2s 207us/step - loss: 0.4009 - accuracy: 0.8350\n",
            "Epoch 96/100\n",
            "8000/8000 [==============================] - 2s 211us/step - loss: 0.4007 - accuracy: 0.8342\n",
            "Epoch 97/100\n",
            "8000/8000 [==============================] - 2s 202us/step - loss: 0.4008 - accuracy: 0.8359\n",
            "Epoch 98/100\n",
            "8000/8000 [==============================] - 2s 206us/step - loss: 0.4008 - accuracy: 0.8341\n",
            "Epoch 99/100\n",
            "8000/8000 [==============================] - 2s 205us/step - loss: 0.4010 - accuracy: 0.8359\n",
            "Epoch 100/100\n",
            "8000/8000 [==============================] - 2s 197us/step - loss: 0.4008 - accuracy: 0.8353\n",
            "The Model has Successfully Trained\n"
          ],
          "name": "stdout"
        }
      ]
    },
    {
      "cell_type": "code",
      "metadata": {
        "id": "xzJPZZovlOWt",
        "colab_type": "code",
        "colab": {}
      },
      "source": [
        "# Prediction\n",
        "y_pred=cls.predict(X_test)"
      ],
      "execution_count": 19,
      "outputs": []
    },
    {
      "cell_type": "code",
      "metadata": {
        "id": "skafgAbv0LDU",
        "colab_type": "code",
        "colab": {}
      },
      "source": [
        "y_pred=(y_pred>0.5)"
      ],
      "execution_count": 20,
      "outputs": []
    },
    {
      "cell_type": "code",
      "metadata": {
        "id": "lw7W7S69wbE_",
        "colab_type": "code",
        "colab": {}
      },
      "source": [
        "# Compare train model "
      ],
      "execution_count": 21,
      "outputs": []
    },
    {
      "cell_type": "code",
      "metadata": {
        "id": "S5qS53FB05EB",
        "colab_type": "code",
        "colab": {
          "base_uri": "https://localhost:8080/",
          "height": 136
        },
        "outputId": "8a69654c-6a92-4c3d-b81b-ccef32ea6b6e"
      },
      "source": [
        "y_pred"
      ],
      "execution_count": 22,
      "outputs": [
        {
          "output_type": "execute_result",
          "data": {
            "text/plain": [
              "array([[False],\n",
              "       [False],\n",
              "       [False],\n",
              "       ...,\n",
              "       [ True],\n",
              "       [False],\n",
              "       [False]])"
            ]
          },
          "metadata": {
            "tags": []
          },
          "execution_count": 22
        }
      ]
    },
    {
      "cell_type": "code",
      "metadata": {
        "id": "OYxk7-yp0UQj",
        "colab_type": "code",
        "colab": {
          "base_uri": "https://localhost:8080/",
          "height": 34
        },
        "outputId": "200e8e73-70f8-47b7-bc64-ea0570a23040"
      },
      "source": [
        "y_test=(y_test>0.5)\n",
        "y_test"
      ],
      "execution_count": 23,
      "outputs": [
        {
          "output_type": "execute_result",
          "data": {
            "text/plain": [
              "array([False, False, False, ...,  True,  True,  True])"
            ]
          },
          "metadata": {
            "tags": []
          },
          "execution_count": 23
        }
      ]
    },
    {
      "cell_type": "code",
      "metadata": {
        "id": "PnB71sEy0Xh0",
        "colab_type": "code",
        "colab": {
          "base_uri": "https://localhost:8080/",
          "height": 34
        },
        "outputId": "bb821c5c-1f39-4496-dd1b-171858a5801f"
      },
      "source": [
        "len(y_pred)"
      ],
      "execution_count": 24,
      "outputs": [
        {
          "output_type": "execute_result",
          "data": {
            "text/plain": [
              "2000"
            ]
          },
          "metadata": {
            "tags": []
          },
          "execution_count": 24
        }
      ]
    },
    {
      "cell_type": "code",
      "metadata": {
        "id": "gaPhatAm1Ryh",
        "colab_type": "code",
        "colab": {
          "base_uri": "https://localhost:8080/",
          "height": 51
        },
        "outputId": "1f278db0-1040-4d3b-89d5-0ecb137e70c8"
      },
      "source": [
        "# Confusion matrix\n",
        "cm=confusion_matrix(y_pred,y_test)\n",
        "cm"
      ],
      "execution_count": 25,
      "outputs": [
        {
          "output_type": "execute_result",
          "data": {
            "text/plain": [
              "array([[1558,  267],\n",
              "       [  49,  126]])"
            ]
          },
          "metadata": {
            "tags": []
          },
          "execution_count": 25
        }
      ]
    },
    {
      "cell_type": "code",
      "metadata": {
        "id": "XlME9MrL1uCi",
        "colab_type": "code",
        "colab": {}
      },
      "source": [
        "from sklearn.metrics import accuracy_score\n",
        "# Confusion matrix\n",
        "accuracy_score=accuracy_score(y_pred,y_test)\n"
      ],
      "execution_count": 28,
      "outputs": []
    },
    {
      "cell_type": "code",
      "metadata": {
        "id": "ZLyDvvAqYbX0",
        "colab_type": "code",
        "colab": {
          "base_uri": "https://localhost:8080/",
          "height": 34
        },
        "outputId": "5d95b5c0-f368-456c-eca0-83e595be2386"
      },
      "source": [
        "accuracy_score"
      ],
      "execution_count": 29,
      "outputs": [
        {
          "output_type": "execute_result",
          "data": {
            "text/plain": [
              "0.842"
            ]
          },
          "metadata": {
            "tags": []
          },
          "execution_count": 29
        }
      ]
    },
    {
      "cell_type": "code",
      "metadata": {
        "id": "kavIGCLtYqR3",
        "colab_type": "code",
        "colab": {}
      },
      "source": [
        ""
      ],
      "execution_count": null,
      "outputs": []
    }
  ]
}